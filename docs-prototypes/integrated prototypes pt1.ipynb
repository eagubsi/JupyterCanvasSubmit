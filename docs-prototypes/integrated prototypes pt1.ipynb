{
 "cells": [
  {
   "cell_type": "markdown",
   "metadata": {},
   "source": [
    "# Testing the Submission Framework\n",
    "\n",
    "Hi! Thank you for testing this submission framework. It is in very early stages of development so dont worry if things go horribly wrong (but we are hopeful). \n",
    "\n",
    "## All you need to do is: \n",
    "\n",
    "1) Run the Install notebook.  \n",
    "\n",
    "2) In the cell labled #Variables, enter the names of all the files you want to submit inside the list. \n",
    "\n",
    "3)  Please get your token here:\n",
    "https://documentcloud.adobe.com/link/track?uri=urn%3Aaaid%3Ascds%3AUS%3A5a18408c-2102-4dc5-8f50-f8205f9b85bf \n",
    "\n",
    "4) Run the file. \n",
    "\n",
    "5) Paste in the token when prompted.\n",
    "\n",
    "6) hit enter. \n",
    "\n",
    "7) run the file again to finish. \n",
    "\n"
   ]
  },
  {
   "cell_type": "code",
   "execution_count": 1,
   "metadata": {},
   "outputs": [
    {
     "name": "stdout",
     "output_type": "stream",
     "text": [
      "Requirement already satisfied: canvasapi in /home/jupyter/.local/lib/python3.7/site-packages (0.14.0)\n",
      "Requirement already satisfied: pytz in /opt/conda/lib/python3.7/site-packages (from canvasapi) (2019.2)\n",
      "Requirement already satisfied: six in /opt/conda/lib/python3.7/site-packages (from canvasapi) (1.12.0)\n",
      "Requirement already satisfied: requests in /opt/conda/lib/python3.7/site-packages (from canvasapi) (2.22.0)\n",
      "Requirement already satisfied: urllib3!=1.25.0,!=1.25.1,<1.26,>=1.21.1 in /opt/conda/lib/python3.7/site-packages (from requests->canvasapi) (1.25.3)\n",
      "Requirement already satisfied: chardet<3.1.0,>=3.0.2 in /opt/conda/lib/python3.7/site-packages (from requests->canvasapi) (3.0.4)\n",
      "Requirement already satisfied: idna<2.9,>=2.5 in /opt/conda/lib/python3.7/site-packages (from requests->canvasapi) (2.8)\n",
      "Requirement already satisfied: certifi>=2017.4.17 in /opt/conda/lib/python3.7/site-packages (from requests->canvasapi) (2019.6.16)\n",
      "Requirement already satisfied: python-dotenv in /home/jupyter/.local/lib/python3.7/site-packages (0.10.3)\n"
     ]
    }
   ],
   "source": [
    "import subprocess\n",
    "import sys\n",
    "from pip._internal import main as pip\n",
    "import pathlib\n",
    "import importlib \n",
    "import os\n",
    "import ipywidgets as widgets\n",
    "\n",
    "\n",
    "def install(package):\n",
    "    pip(['install', '--user', package])\n",
    "    \n",
    "install(\"canvasapi\")\n",
    "install(\"python-dotenv\")\n",
    "\n",
    "\n",
    "\n",
    "try:\n",
    "    from dotenv import load_dotenv\n",
    "    import dotenv\n",
    "    import os\n",
    "    import os.path\n",
    "    from canvasapi import Canvas\n",
    "except:\n",
    "    os._exit(00)\n",
    "    print(\"please go back and run the install file\")\n",
    "    \n"
   ]
  },
  {
   "cell_type": "markdown",
   "metadata": {},
   "source": [
    "## The cell bellow this is the \"Variables\" cell. Please fill in the ALL_FILES variable"
   ]
  },
  {
   "cell_type": "code",
   "execution_count": 2,
   "metadata": {},
   "outputs": [],
   "source": [
    "#Variables \n",
    "\n",
    "API_URL = 'https://canvas.ubc.ca/'\n",
    "COURSE_KEY= 44564 #40476\n",
    "ASSIGNMENT_KEY = 362680 #356269\n",
    "ALL_FILES = ['assignment.ipynb']   #Put your file names here as a list of strings. es: [\"file1.ipynb\", \"testcsv.csv\"]\n",
    "token_success = False\n",
    "API_KEY=\"\""
   ]
  },
  {
   "cell_type": "code",
   "execution_count": 3,
   "metadata": {},
   "outputs": [],
   "source": [
    "def touch_path(path_str):\n",
    "    \"\"\"\n",
    "    Run the equivalent of UNIX touch on path_str, where path_str\n",
    "    can contain ~ to refer to the user's home directory, managed\n",
    "    via Path.expanduser. Touches with user read/write permission\n",
    "    and tries to deny group/other permissions.\n",
    "    \"\"\"\n",
    "    envp = pathlib.Path(path_str). expanduser()\n",
    "    envp.touch(0o600)\n",
    "\n",
    "#Token Verification:\n",
    "def token_verif(course = COURSE_KEY):\n",
    "    try:\n",
    "        touch_path(\"~/.env\")   \n",
    "        load_dotenv()\n",
    "        global API_KEY\n",
    "        API_KEY= os.getenv(\"API_KEY\")\n",
    "        canvas = Canvas(API_URL, API_KEY)\n",
    "        course_got = canvas.get_course(course)\n",
    "        global token_success\n",
    "        token_success = True\n",
    "        \n",
    "        \n",
    "    except:\n",
    "        print(\"We can't seem to find your token, blah blah blah, put it in now:\")\n",
    "        token = input()\n",
    "        \n",
    "        while \"API_KEY\" in os.environ:\n",
    "            del os.environ[\"API_KEY\"]\n",
    "            os.remove(os.path.expanduser(\"~/.env\"))\n",
    "            touch_path(\"~/.env\") \n",
    "        \n",
    "                \n",
    "        with open(os.path.expanduser(\"~/.env\"), \"a\") as f:\n",
    "            f.write(\"\\nAPI_KEY = \" + token)\n",
    "        try: \n",
    "            load_dotenv()\n",
    "            API_KEY= os.getenv(\"API_KEY\")\n",
    "            print(API_KEY)\n",
    "            canvas = Canvas(API_URL, API_KEY)\n",
    "            course = canvas.get_course(COURSE_KEY)\n",
    "            print(\"got here as well\")\n",
    "            token_success = True \n",
    "            \n",
    "        except:\n",
    "            print(\"Oh no! something didn't work, please complain to Steve\")\n",
    "        \n"
   ]
  },
  {
   "cell_type": "code",
   "execution_count": 4,
   "metadata": {},
   "outputs": [],
   "source": [
    "def convert_notebook_to_html( file_name: str, notebook_path: str = \"\", allow_errors: bool = False) -> bool: \n",
    "    try: \n",
    "        if allow_errors: \n",
    "            outp= subprocess.run([\"jupyter\", \"nbconvert\",   \"--execute\", \"--allow-errors\", \"--to\",  \"html\",  file_name], capture_output= True)\n",
    "        else:\n",
    "            outp= subprocess.run([\"jupyter\", \"nbconvert\",   \"--execute\", \"--to\",  \"html\",  file_name], capture_output= True)\n",
    "            \n",
    "        print(outp.stdout.decode(\"ascii\"))\n",
    "        return True \n",
    "    \n",
    "    except: \n",
    "        \n",
    "        return False \n",
    "            \n",
    "def file_ipynb(file_name: str):\n",
    "    return file_name[-6:] == \".ipynb\"\n",
    "\n",
    "def file_csv(file_name: str):\n",
    "    return file_name[-4:] == \".ipynb\"\n",
    "\n",
    "        \n",
    "def submit_assignment(files=ALL_FILES,assign =ASSIGNMENT_KEY, c=COURSE_KEY ):\n",
    "    canvas = Canvas(API_URL, API_KEY)\n",
    "    course = canvas.get_course(c)\n",
    "    assignment = course.get_assignment(assign)\n",
    "    submit_these_id = []\n",
    "    for file in files:\n",
    "        chtml= convert_notebook_to_html(file_name = file)\n",
    "        if chtml: \n",
    "            file1 = assignment.upload_to_submission(file)\n",
    "            if file_ipynb(file):\n",
    "                    file2 = assignment.upload_to_submission(file[:-6] + '.html')\n",
    "            elif file_csv(file):\n",
    "                    file2 = assignment.upload_to_submission(file[:-4] + '.html')\n",
    "            submit_these_id.append(file1[1]['id'])\n",
    "            submit_these_id.append(file2[1]['id'])\n",
    "        else:\n",
    "            print(\"This file has an error. Do you still want to submit this file?\")\n",
    "            answ = input()\n",
    "            if answ:\n",
    "                chtml = convert_notebook_to_html(file_name = file, allow_errors = True)\n",
    "                file1 = assignment.upload_to_submission(file)\n",
    "                if file_ipynb(file):\n",
    "                    file2 = assignment.upload_to_submission(file[:-6] + '.html')\n",
    "                elif file_csv(file):\n",
    "                    file2 = assignment.upload_to_submission(file[:-4] + '.html')\n",
    "                submit_these_id.append(file1[1]['id'])\n",
    "                submit_these_id.append(file2[1]['id'])\n",
    "            else: \n",
    "                exit()\n",
    "                \n",
    "        \n",
    "    \n",
    "    submission = assignment.submit({ 'submission_type' : 'online_upload', 'file_ids' : submit_these_id})\n",
    "    print(\"check your submission here: \" + submission.preview_url)"
   ]
  },
  {
   "cell_type": "code",
   "execution_count": 5,
   "metadata": {},
   "outputs": [],
   "source": [
    "#submit_assignment()"
   ]
  },
  {
   "cell_type": "code",
   "execution_count": 6,
   "metadata": {},
   "outputs": [
    {
     "name": "stdout",
     "output_type": "stream",
     "text": [
      "Request: GET https://canvas.ubc.ca/api/v1/courses/44564\n",
      "Response: GET https://canvas.ubc.ca/api/v1/courses/44564 200\n"
     ]
    },
    {
     "data": {
      "application/vnd.jupyter.widget-view+json": {
       "model_id": "43936389b4ca4265b1d13742b1d2e4c0",
       "version_major": 2,
       "version_minor": 0
      },
      "text/plain": [
       "Valid(value=True, description='Token')"
      ]
     },
     "metadata": {},
     "output_type": "display_data"
    },
    {
     "data": {
      "application/vnd.jupyter.widget-view+json": {
       "model_id": "d2db61552afe453a8ac8d165341fa2f4",
       "version_major": 2,
       "version_minor": 0
      },
      "text/plain": [
       "Dropdown(description='Course:', index=2, options=('CS103_2018W1', 'CS103_2018W2', 'CS103_2019W1'), value='CS10…"
      ]
     },
     "metadata": {},
     "output_type": "display_data"
    },
    {
     "data": {
      "application/vnd.jupyter.widget-view+json": {
       "model_id": "03984302176445c7b83ff5bdcaa472ac",
       "version_major": 2,
       "version_minor": 0
      },
      "text/plain": [
       "Dropdown(description='Assignment:', index=1, options=('Module 1 tutorial', 'Module 2 tutorial', 'Module 3 tuto…"
      ]
     },
     "metadata": {},
     "output_type": "display_data"
    },
    {
     "data": {
      "application/vnd.jupyter.widget-view+json": {
       "model_id": "6baee5be6f85461e9cfc69f659256edf",
       "version_major": 2,
       "version_minor": 0
      },
      "text/plain": [
       "SelectMultiple(description='Files', options=('assignment.ipynb', 'a', 'b'), value=())"
      ]
     },
     "metadata": {},
     "output_type": "display_data"
    },
    {
     "data": {
      "application/vnd.jupyter.widget-view+json": {
       "model_id": "af380e9747a546929412a549bed9051a",
       "version_major": 2,
       "version_minor": 0
      },
      "text/plain": [
       "Button(description='submit', icon='check', style=ButtonStyle(), tooltip='submit')"
      ]
     },
     "metadata": {},
     "output_type": "display_data"
    },
    {
     "name": "stdout",
     "output_type": "stream",
     "text": [
      "Request: GET https://canvas.ubc.ca/api/v1/courses/44564\n",
      "Response: GET https://canvas.ubc.ca/api/v1/courses/44564 200\n",
      "Request: GET https://canvas.ubc.ca/api/v1/courses/44564/assignments/362680\n",
      "Response: GET https://canvas.ubc.ca/api/v1/courses/44564/assignments/362680 200\n",
      "\n",
      "Request: POST https://canvas.ubc.ca/api/v1/courses/44564/assignments/362680/submissions/self/files\n",
      "Response: POST https://canvas.ubc.ca/api/v1/courses/44564/assignments/362680/submissions/self/files 200\n",
      "Request: POST https://inst-fs-yul-prod.inscloudgate.net/files?token=eyJ0eXAiOiJKV1QiLCJhbGciOiJIUzUxMiJ9.eyJpYXQiOjE1NzcxMjM2NTIsInVzZXJfaWQiOiIxMTIyNDAwMDAwMDAzOTQ3MTQiLCJyZXNvdXJjZSI6Ii9maWxlcyIsImNhcHR1cmVfdXJsIjoiaHR0cHM6Ly9jYW52YXMudWJjLmNhL2FwaS92MS9maWxlcy9jYXB0dXJlIiwiY2FwdHVyZV9wYXJhbXMiOnsiY29udGV4dF90eXBlIjoiVXNlciIsImNvbnRleHRfaWQiOiIxMTIyNDAwMDAwMDAzOTQ3MTQiLCJ1c2VyX2lkIjoiMTEyMjQwMDAwMDAwMzk0NzE0IiwiZm9sZGVyX2lkIjoiMTEyMjQwMDAwMDAxMDk4MjY2Iiwicm9vdF9hY2NvdW50X2lkIjoiMTEyMjQwMDAwMDAwMDAwMDAxIiwicXVvdGFfZXhlbXB0Ijp0cnVlLCJvbl9kdXBsaWNhdGUiOiJvdmVyd3JpdGUiLCJwcm9ncmVzc19pZCI6bnVsbCwiaW5jbHVkZSI6bnVsbH0sImxlZ2FjeV9hcGlfZGV2ZWxvcGVyX2tleV9pZCI6IjE3MDAwMDAwMDAwMDAxNiIsImxlZ2FjeV9hcGlfcm9vdF9hY2NvdW50X2lkIjoiMTEyMjQwMDAwMDAwMDAwMDAxIiwiZXhwIjoxNTc3MTI0MjUyfQ.qlJbMqSBpqcqUJ6klZbxZWG1mhzV_y4q00dFW3kA8EHSqA0NZh4HGSRI7yH1OzMBRJYT1szO2-1pvnZ1kAL9JQ\n",
      "Response: POST https://inst-fs-yul-prod.inscloudgate.net/files?token=eyJ0eXAiOiJKV1QiLCJhbGciOiJIUzUxMiJ9.eyJpYXQiOjE1NzcxMjM2NTIsInVzZXJfaWQiOiIxMTIyNDAwMDAwMDAzOTQ3MTQiLCJyZXNvdXJjZSI6Ii9maWxlcyIsImNhcHR1cmVfdXJsIjoiaHR0cHM6Ly9jYW52YXMudWJjLmNhL2FwaS92MS9maWxlcy9jYXB0dXJlIiwiY2FwdHVyZV9wYXJhbXMiOnsiY29udGV4dF90eXBlIjoiVXNlciIsImNvbnRleHRfaWQiOiIxMTIyNDAwMDAwMDAzOTQ3MTQiLCJ1c2VyX2lkIjoiMTEyMjQwMDAwMDAwMzk0NzE0IiwiZm9sZGVyX2lkIjoiMTEyMjQwMDAwMDAxMDk4MjY2Iiwicm9vdF9hY2NvdW50X2lkIjoiMTEyMjQwMDAwMDAwMDAwMDAxIiwicXVvdGFfZXhlbXB0Ijp0cnVlLCJvbl9kdXBsaWNhdGUiOiJvdmVyd3JpdGUiLCJwcm9ncmVzc19pZCI6bnVsbCwiaW5jbHVkZSI6bnVsbH0sImxlZ2FjeV9hcGlfZGV2ZWxvcGVyX2tleV9pZCI6IjE3MDAwMDAwMDAwMDAxNiIsImxlZ2FjeV9hcGlfcm9vdF9hY2NvdW50X2lkIjoiMTEyMjQwMDAwMDAwMDAwMDAxIiwiZXhwIjoxNTc3MTI0MjUyfQ.qlJbMqSBpqcqUJ6klZbxZWG1mhzV_y4q00dFW3kA8EHSqA0NZh4HGSRI7yH1OzMBRJYT1szO2-1pvnZ1kAL9JQ 201\n",
      "Request: POST https://canvas.ubc.ca/api/v1/courses/44564/assignments/362680/submissions/self/files\n",
      "Response: POST https://canvas.ubc.ca/api/v1/courses/44564/assignments/362680/submissions/self/files 200\n",
      "Request: POST https://inst-fs-yul-prod.inscloudgate.net/files?token=eyJ0eXAiOiJKV1QiLCJhbGciOiJIUzUxMiJ9.eyJpYXQiOjE1NzcxMjM2NTMsInVzZXJfaWQiOiIxMTIyNDAwMDAwMDAzOTQ3MTQiLCJyZXNvdXJjZSI6Ii9maWxlcyIsImNhcHR1cmVfdXJsIjoiaHR0cHM6Ly9jYW52YXMudWJjLmNhL2FwaS92MS9maWxlcy9jYXB0dXJlIiwiY2FwdHVyZV9wYXJhbXMiOnsiY29udGV4dF90eXBlIjoiVXNlciIsImNvbnRleHRfaWQiOiIxMTIyNDAwMDAwMDAzOTQ3MTQiLCJ1c2VyX2lkIjoiMTEyMjQwMDAwMDAwMzk0NzE0IiwiZm9sZGVyX2lkIjoiMTEyMjQwMDAwMDAxMDk4MjY2Iiwicm9vdF9hY2NvdW50X2lkIjoiMTEyMjQwMDAwMDAwMDAwMDAxIiwicXVvdGFfZXhlbXB0Ijp0cnVlLCJvbl9kdXBsaWNhdGUiOiJvdmVyd3JpdGUiLCJwcm9ncmVzc19pZCI6bnVsbCwiaW5jbHVkZSI6bnVsbH0sImxlZ2FjeV9hcGlfZGV2ZWxvcGVyX2tleV9pZCI6IjE3MDAwMDAwMDAwMDAxNiIsImxlZ2FjeV9hcGlfcm9vdF9hY2NvdW50X2lkIjoiMTEyMjQwMDAwMDAwMDAwMDAxIiwiZXhwIjoxNTc3MTI0MjUzfQ.Rh8bCY1igRokoO9QH2zoC3QjPhzMAs2aYDe1gSxUAczszQ0ZfVWLyItEMyuk3mCYuQlSbxsHTphaUUCuaSDooA\n",
      "Response: POST https://inst-fs-yul-prod.inscloudgate.net/files?token=eyJ0eXAiOiJKV1QiLCJhbGciOiJIUzUxMiJ9.eyJpYXQiOjE1NzcxMjM2NTMsInVzZXJfaWQiOiIxMTIyNDAwMDAwMDAzOTQ3MTQiLCJyZXNvdXJjZSI6Ii9maWxlcyIsImNhcHR1cmVfdXJsIjoiaHR0cHM6Ly9jYW52YXMudWJjLmNhL2FwaS92MS9maWxlcy9jYXB0dXJlIiwiY2FwdHVyZV9wYXJhbXMiOnsiY29udGV4dF90eXBlIjoiVXNlciIsImNvbnRleHRfaWQiOiIxMTIyNDAwMDAwMDAzOTQ3MTQiLCJ1c2VyX2lkIjoiMTEyMjQwMDAwMDAwMzk0NzE0IiwiZm9sZGVyX2lkIjoiMTEyMjQwMDAwMDAxMDk4MjY2Iiwicm9vdF9hY2NvdW50X2lkIjoiMTEyMjQwMDAwMDAwMDAwMDAxIiwicXVvdGFfZXhlbXB0Ijp0cnVlLCJvbl9kdXBsaWNhdGUiOiJvdmVyd3JpdGUiLCJwcm9ncmVzc19pZCI6bnVsbCwiaW5jbHVkZSI6bnVsbH0sImxlZ2FjeV9hcGlfZGV2ZWxvcGVyX2tleV9pZCI6IjE3MDAwMDAwMDAwMDAxNiIsImxlZ2FjeV9hcGlfcm9vdF9hY2NvdW50X2lkIjoiMTEyMjQwMDAwMDAwMDAwMDAxIiwiZXhwIjoxNTc3MTI0MjUzfQ.Rh8bCY1igRokoO9QH2zoC3QjPhzMAs2aYDe1gSxUAczszQ0ZfVWLyItEMyuk3mCYuQlSbxsHTphaUUCuaSDooA 201\n",
      "Request: POST https://canvas.ubc.ca/api/v1/courses/44564/assignments/362680/submissions\n",
      "Response: POST https://canvas.ubc.ca/api/v1/courses/44564/assignments/362680/submissions 201\n",
      "check your submission here: https://canvas.ubc.ca/courses/44564/assignments/362680/submissions/394714?preview=1&version=48\n"
     ]
    }
   ],
   "source": [
    "#interface definition  \n",
    "\n",
    "ALL_FILES =['assignment.ipynb', \"a\", \"b\"]\n",
    "\n",
    "token = widgets.Valid(\n",
    "        value=token_success,\n",
    "        description='Token')\n",
    "\n",
    "course_menu = widgets.Dropdown(\n",
    "       options=['CS103_2018W1', 'CS103_2018W2', 'CS103_2019W1'],\n",
    "       value='CS103_2019W1',\n",
    "       description='Course:')\n",
    "asn_menu = widgets.Dropdown(\n",
    "       options=['Module 1 tutorial', 'Module 2 tutorial','Module 3 tutorial', 'Module 4 tutorial', \n",
    "                'Module 5 tutorial','Module 6 tutorial','Module 7 tutorial', 'Module 8 tutorial', 'Project submission'],\n",
    "       value='Module 2 tutorial',\n",
    "       description='Assignment:')\n",
    "files = widgets.SelectMultiple(\n",
    "        options=ALL_FILES,\n",
    "        value=[],\n",
    "        #rows=10,\n",
    "        description='Files',\n",
    "        disabled=False)\n",
    "button = widgets.Button(\n",
    "    description='submit',\n",
    "    disabled=False,\n",
    "    button_style='', # 'success', 'info', 'warning', 'danger' or ''\n",
    "    tooltip='submit',\n",
    "    icon='check')\n",
    "missing_token = widgets.Text(\n",
    "    value='',\n",
    "    placeholder='Your token here',\n",
    "    description='Token:',\n",
    "    disabled=False)\n",
    "\n",
    "\n",
    "t = token\n",
    "cm = course_menu\n",
    "am = asn_menu\n",
    "f = files\n",
    "b = button\n",
    "mt = missing_token\n",
    "\n",
    "def submit_selected(event):\n",
    "    assign= list(f.value)\n",
    "    submit_assignment(files=assign)\n",
    "\n",
    "def submit():  \n",
    "    if token_success:\n",
    "        display(t,cm, am,f,b)\n",
    "        b.on_click(submit_selected)\n",
    "    else:\n",
    "        token_verif()\n",
    "        global token\n",
    "        token = widgets.Valid(value=token_success,description='Token')\n",
    "        to = token\n",
    "        display(to,cm, am,f,b)\n",
    "        b.on_click(submit_selected)\n",
    "    \n",
    "\n",
    "submit()\n",
    "\n"
   ]
  },
  {
   "cell_type": "code",
   "execution_count": 7,
   "metadata": {},
   "outputs": [
    {
     "name": "stdout",
     "output_type": "stream",
     "text": [
      "\n"
     ]
    }
   ],
   "source": [
    "\n",
    "def convert_notebook_to_html( file_name: str, notebook_path: str = \"\", allow_errors: bool = False) -> bool: \n",
    "    try: \n",
    "        if allow_errors: \n",
    "            outp= subprocess.run([\"jupyter\", \"nbconvert\",   \"--execute\", \"--allow-errors\", \"--to\",  \"html\",  file_name], capture_output= True)\n",
    "        else:\n",
    "            outp= subprocess.run([\"jupyter\", \"nbconvert\",   \"--execute\", \"--to\",  \"html\",  file_name], capture_output= True)\n",
    "            \n",
    "        print(outp.stdout.decode(\"ascii\"))\n",
    "        return True \n",
    "    \n",
    "    except: \n",
    "        \n",
    "        return False\n",
    "    \n",
    "outp= subprocess.run([\"jupyter\", \"nbconvert\",   \"--execute\", \"--to\",  \"html\",  'assignment.ipynb'], capture_output= True)\n",
    "print(outp.stdout.decode(\"ascii\")) # this should not be blank if there is an error in the code. \n"
   ]
  },
  {
   "cell_type": "markdown",
   "metadata": {},
   "source": [
    "BACKUP: \n",
    "- Token: 11224~Cj6a54ZoM42qfHa3Mh7qWr5b4MFBfpoHNxKPnQV4wq7ZqG08s1JN87LHlwLimBbG\n",
    "- COURSE_KEY= 44564\n",
    "- ASSIGNMENT_KEY = 362680\n"
   ]
  },
  {
   "cell_type": "code",
   "execution_count": null,
   "metadata": {},
   "outputs": [],
   "source": []
  },
  {
   "cell_type": "code",
   "execution_count": null,
   "metadata": {},
   "outputs": [],
   "source": []
  }
 ],
 "metadata": {
  "kernelspec": {
   "display_name": "Python 3",
   "language": "python",
   "name": "python3"
  },
  "language_info": {
   "codemirror_mode": {
    "name": "ipython",
    "version": 3
   },
   "file_extension": ".py",
   "mimetype": "text/x-python",
   "name": "python",
   "nbconvert_exporter": "python",
   "pygments_lexer": "ipython3",
   "version": "3.7.3"
  }
 },
 "nbformat": 4,
 "nbformat_minor": 2
}
