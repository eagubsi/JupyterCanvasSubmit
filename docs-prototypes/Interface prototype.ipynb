{
 "cells": [
  {
   "cell_type": "code",
   "execution_count": 1,
   "metadata": {},
   "outputs": [],
   "source": [
    "# !pip install ipywidgets\n",
    "# !jupyter nbextension enable --py widgetsnbextension\n",
    "from IPython.display import display, Markdown, clear_output\n",
    "# widget packages\n",
    "import ipywidgets as widgets\n"
   ]
  },
  {
   "cell_type": "code",
   "execution_count": 2,
   "metadata": {},
   "outputs": [],
   "source": [
    "token = widgets.Valid(\n",
    "        value=True,\n",
    "        description='Token')\n",
    "\n",
    "course_menu = widgets.Dropdown(\n",
    "       options=['CS103_2018W1', 'CS103_2018W2', 'CS103_2019W1'],\n",
    "       value='CS103_2019W1',\n",
    "       description='Course:')\n",
    "asn_menu = widgets.Dropdown(\n",
    "       options=['Module 1 tutorial', 'Module 2 tutorial', 'Project submission'],\n",
    "       value='Module 2 tutorial',\n",
    "       description='Assignment:')\n",
    "files = widgets.SelectMultiple(\n",
    "        options=['Assignment.ipynb', 'file1.csv', 'file2.csv'],\n",
    "        value=[],\n",
    "        #rows=10,\n",
    "        description='Files',\n",
    "        disabled=False)\n",
    "button = widgets.Button(\n",
    "    description='submit',\n",
    "    disabled=False,\n",
    "    button_style='', # 'success', 'info', 'warning', 'danger' or ''\n",
    "    tooltip='submit',\n",
    "    icon='check')\n",
    "\n",
    "missing_token = widgets.Text(\n",
    "    value='',\n",
    "    placeholder='Your token here',\n",
    "    description='Token:',\n",
    "    disabled=False)\n"
   ]
  },
  {
   "cell_type": "code",
   "execution_count": 3,
   "metadata": {},
   "outputs": [
    {
     "data": {
      "application/vnd.jupyter.widget-view+json": {
       "model_id": "507b6d9a3ba84b07a57891139b6c5257",
       "version_major": 2,
       "version_minor": 0
      },
      "text/plain": [
       "Valid(value=True, description='Token')"
      ]
     },
     "metadata": {},
     "output_type": "display_data"
    },
    {
     "data": {
      "application/vnd.jupyter.widget-view+json": {
       "model_id": "fd598109041349408520706363fdff8d",
       "version_major": 2,
       "version_minor": 0
      },
      "text/plain": [
       "Dropdown(description='Course:', index=2, options=('CS103_2018W1', 'CS103_2018W2', 'CS103_2019W1'), value='CS10…"
      ]
     },
     "metadata": {},
     "output_type": "display_data"
    },
    {
     "data": {
      "application/vnd.jupyter.widget-view+json": {
       "model_id": "5f6cf550cef9455eb3f4e0cd75891405",
       "version_major": 2,
       "version_minor": 0
      },
      "text/plain": [
       "Dropdown(description='Assignment:', index=1, options=('Module 1 tutorial', 'Module 2 tutorial', 'Project submi…"
      ]
     },
     "metadata": {},
     "output_type": "display_data"
    },
    {
     "data": {
      "application/vnd.jupyter.widget-view+json": {
       "model_id": "c878c4bfe8a64e7bbb3565898c3776af",
       "version_major": 2,
       "version_minor": 0
      },
      "text/plain": [
       "SelectMultiple(description='Files', options=('Assignment.ipynb', 'file1.csv', 'file2.csv'), value=())"
      ]
     },
     "metadata": {},
     "output_type": "display_data"
    },
    {
     "data": {
      "application/vnd.jupyter.widget-view+json": {
       "model_id": "2808518245254bbbb57ec5e341ba9aa3",
       "version_major": 2,
       "version_minor": 0
      },
      "text/plain": [
       "Button(description='submit', icon='check', style=ButtonStyle(), tooltip='submit')"
      ]
     },
     "metadata": {},
     "output_type": "display_data"
    }
   ],
   "source": [
    "t = token\n",
    "cm = course_menu\n",
    "am = asn_menu\n",
    "f = files\n",
    "b = button\n",
    "\n",
    "display(t,cm,am,f,b)"
   ]
  },
  {
   "cell_type": "code",
   "execution_count": 4,
   "metadata": {},
   "outputs": [
    {
     "name": "stdout",
     "output_type": "stream",
     "text": [
      "Oh no! seems like we couldn't find your token. Please paste it here:\n"
     ]
    },
    {
     "data": {
      "application/vnd.jupyter.widget-view+json": {
       "model_id": "80a188d3d172432aa92f845060b298cc",
       "version_major": 2,
       "version_minor": 0
      },
      "text/plain": [
       "Text(value='', description='Token:', placeholder='Your token here')"
      ]
     },
     "metadata": {},
     "output_type": "display_data"
    }
   ],
   "source": [
    "print(\"Oh no! seems like we couldn't find your token. Please paste it here:\")\n",
    "display(missing_token)"
   ]
  },
  {
   "cell_type": "code",
   "execution_count": null,
   "metadata": {},
   "outputs": [],
   "source": []
  }
 ],
 "metadata": {
  "kernelspec": {
   "display_name": "Python 3",
   "language": "python",
   "name": "python3"
  },
  "language_info": {
   "codemirror_mode": {
    "name": "ipython",
    "version": 3
   },
   "file_extension": ".py",
   "mimetype": "text/x-python",
   "name": "python",
   "nbconvert_exporter": "python",
   "pygments_lexer": "ipython3",
   "version": "3.7.3"
  }
 },
 "nbformat": 4,
 "nbformat_minor": 2
}
