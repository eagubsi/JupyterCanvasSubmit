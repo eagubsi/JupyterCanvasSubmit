{
 "cells": [
  {
   "cell_type": "code",
   "execution_count": 1,
   "metadata": {},
   "outputs": [],
   "source": [
    "#imports:\n",
    "\n",
    "# !pip install canvasapi\n",
    "# !pip install python-dotenv\n",
    "# !pip install fabric3\n",
    "\n",
    "from canvasapi import Canvas\n",
    "from dotenv import load_dotenv\n",
    "import dotenv\n",
    "import os\n",
    "import os.path\n",
    "from fabric.api import task, run, env"
   ]
  },
  {
   "cell_type": "code",
   "execution_count": 9,
   "metadata": {},
   "outputs": [],
   "source": [
    "#Variables \n",
    "\n",
    "API_URL = 'https://canvas.ubc.ca/'\n",
    "COURSE_KEY= 44564\n",
    "ASSIGNMENT_KEY = 362680\n",
    "FILE = \"assignment\""
   ]
  },
  {
   "cell_type": "code",
   "execution_count": 11,
   "metadata": {},
   "outputs": [],
   "source": [
    "#Token Verification:\n",
    "\n",
    "try:\n",
    "    !touch ~/.env\n",
    "    load_dotenv()\n",
    "    API_KEY= os.getenv(\"API_KEY\")\n",
    "    canvas = Canvas(API_URL, API_KEY)\n",
    "    course = canvas.get_course(COURSE_KEY)\n",
    "except:\n",
    "    print(\"We can't seem to find your token, blah blah blah, put it in now:\")\n",
    "    token = input()\n",
    "    del os.environ[\"API_KEY\"]\n",
    "    with open(os.path.expanduser(\"~/.env\"), \"a\") as f:\n",
    "        f.write(\"\\nAPI_KEY = \" + token)\n",
    "    try: \n",
    "        load_dotenv()\n",
    "        API_KEY= os.getenv(\"API_KEY\")\n",
    "        print(API_KEY)\n",
    "        API_URL = 'https://canvas.ubc.ca/'\n",
    "        canvas = Canvas(API_URL, API_KEY)\n",
    "        course = canvas.get_course(COURSE_KEY)\n",
    "    except:\n",
    "        print(\"Oh no! something didn't work, please complain to Steve\")\n",
    "       \n",
    "    \n",
    "#Submitting framework \n",
    "def convert_HTML():\n",
    "    try:\n",
    "        !jupyter nbconvert  --execute --to html assignment.ipynb\n",
    "        print(\"result is: \" + result)\n",
    "    except:\n",
    "        print(\"There were errors in your code, are you sure this is what you want to submit? Y or N\")\n",
    "        answ = input()\n",
    "        if answ== \"Y\":\n",
    "            !jupyter nbconvert  --execute --allow-errors --to html assignment.ipynb \n",
    "            return True\n",
    "        else: \n",
    "            return False \n",
    "    \n",
    "def submit():\n",
    "    file1 = assignment.upload_to_submission(FILE + '.ipynb')\n",
    "    file2 = assignment.upload_to_submission(FILE + '.html')\n",
    "    submission = assignment.submit({ 'submission_type' : 'online_upload', 'file_ids' : [file1[1]['id'], file2[1]['id']]})\n",
    "    print(\"check your submission here: \" + submission.preview_url)\n",
    "    \n",
    "    \n",
    "def submit_assignment():\n",
    "    assignment = course.get_assignment(ASSIGNMENT_KEY)\n",
    "    chtml= convert_HTML()\n",
    "    if chtml: \n",
    "        submit()\n",
    "    \n"
   ]
  },
  {
   "cell_type": "code",
   "execution_count": 12,
   "metadata": {},
   "outputs": [
    {
     "name": "stdout",
     "output_type": "stream",
     "text": [
      "[NbConvertApp] Converting notebook assignment.ipynb to html\n",
      "[NbConvertApp] Executing notebook with kernel: python3\n",
      "[NbConvertApp] ERROR | Error while converting 'assignment.ipynb'\n",
      "Traceback (most recent call last):\n",
      "  File \"/opt/conda/lib/python3.7/site-packages/nbconvert/nbconvertapp.py\", line 410, in export_single_notebook\n",
      "    output, resources = self.exporter.from_filename(notebook_filename, resources=resources)\n",
      "  File \"/opt/conda/lib/python3.7/site-packages/nbconvert/exporters/exporter.py\", line 179, in from_filename\n",
      "    return self.from_file(f, resources=resources, **kw)\n",
      "  File \"/opt/conda/lib/python3.7/site-packages/nbconvert/exporters/exporter.py\", line 197, in from_file\n",
      "    return self.from_notebook_node(nbformat.read(file_stream, as_version=4), resources=resources, **kw)\n",
      "  File \"/opt/conda/lib/python3.7/site-packages/nbconvert/exporters/html.py\", line 95, in from_notebook_node\n",
      "    return super(HTMLExporter, self).from_notebook_node(nb, resources, **kw)\n",
      "  File \"/opt/conda/lib/python3.7/site-packages/nbconvert/exporters/templateexporter.py\", line 307, in from_notebook_node\n",
      "    nb_copy, resources = super(TemplateExporter, self).from_notebook_node(nb, resources, **kw)\n",
      "  File \"/opt/conda/lib/python3.7/site-packages/nbconvert/exporters/exporter.py\", line 139, in from_notebook_node\n",
      "    nb_copy, resources = self._preprocess(nb_copy, resources)\n",
      "  File \"/opt/conda/lib/python3.7/site-packages/nbconvert/exporters/exporter.py\", line 316, in _preprocess\n",
      "    nbc, resc = preprocessor(nbc, resc)\n",
      "  File \"/opt/conda/lib/python3.7/site-packages/nbconvert/preprocessors/base.py\", line 47, in __call__\n",
      "    return self.preprocess(nb, resources)\n",
      "  File \"/opt/conda/lib/python3.7/site-packages/nbconvert/preprocessors/execute.py\", line 405, in preprocess\n",
      "    nb, resources = super(ExecutePreprocessor, self).preprocess(nb, resources)\n",
      "  File \"/opt/conda/lib/python3.7/site-packages/nbconvert/preprocessors/base.py\", line 69, in preprocess\n",
      "    nb.cells[index], resources = self.preprocess_cell(cell, resources, index)\n",
      "  File \"/opt/conda/lib/python3.7/site-packages/nbconvert/preprocessors/execute.py\", line 448, in preprocess_cell\n",
      "    raise CellExecutionError.from_cell_and_msg(cell, out)\n",
      "nbconvert.preprocessors.execute.CellExecutionError: An error occurred while executing the following cell:\n",
      "------------------\n",
      "hgh \n",
      "------------------\n",
      "\n",
      "\u001b[0;31m---------------------------------------------------------------------------\u001b[0m\n",
      "\u001b[0;31mNameError\u001b[0m                                 Traceback (most recent call last)\n",
      "\u001b[0;32m<ipython-input-2-8f536ae298ea>\u001b[0m in \u001b[0;36m<module>\u001b[0;34m\u001b[0m\n",
      "\u001b[0;32m----> 1\u001b[0;31m \u001b[0mhgh\u001b[0m\u001b[0;34m\u001b[0m\u001b[0;34m\u001b[0m\u001b[0m\n",
      "\u001b[0m\n",
      "\u001b[0;31mNameError\u001b[0m: name 'hgh' is not defined\n",
      "NameError: name 'hgh' is not defined\n",
      "\n",
      "There were errors in your code, are you sure this is what you want to submit? Y or N\n",
      "Y\n",
      "[NbConvertApp] Converting notebook assignment.ipynb to html\n",
      "[NbConvertApp] Executing notebook with kernel: python3\n",
      "[NbConvertApp] Writing 273340 bytes to assignment.html\n",
      "check your submission here: https://canvas.ubc.ca/courses/44564/assignments/362680/submissions/394714?preview=1&version=24\n"
     ]
    }
   ],
   "source": [
    "# Actually submitting the assignment in this directory. \n",
    "submit_assignment()"
   ]
  },
  {
   "cell_type": "code",
   "execution_count": null,
   "metadata": {},
   "outputs": [],
   "source": []
  }
 ],
 "metadata": {
  "kernelspec": {
   "display_name": "Python 3",
   "language": "python",
   "name": "python3"
  },
  "language_info": {
   "codemirror_mode": {
    "name": "ipython",
    "version": 3
   },
   "file_extension": ".py",
   "mimetype": "text/x-python",
   "name": "python",
   "nbconvert_exporter": "python",
   "pygments_lexer": "ipython3",
   "version": "3.7.3"
  }
 },
 "nbformat": 4,
 "nbformat_minor": 2
}
